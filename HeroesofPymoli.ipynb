{
 "cells": [
  {
   "cell_type": "code",
   "execution_count": 1,
   "metadata": {
    "collapsed": true
   },
   "outputs": [],
   "source": [
    "import pandas as pd\n",
    "import numpy as np"
   ]
  },
  {
   "cell_type": "code",
   "execution_count": 2,
   "metadata": {
    "collapsed": true
   },
   "outputs": [],
   "source": [
    "DataFileName = 'purchase_data.json'"
   ]
  },
  {
   "cell_type": "code",
   "execution_count": 3,
   "metadata": {
    "collapsed": true
   },
   "outputs": [],
   "source": [
    "Item_Purchase_Data_df = pd.read_json(DataFileName)"
   ]
  },
  {
   "cell_type": "code",
   "execution_count": 4,
   "metadata": {},
   "outputs": [
    {
     "data": {
      "text/html": [
       "<div>\n",
       "<style>\n",
       "    .dataframe thead tr:only-child th {\n",
       "        text-align: right;\n",
       "    }\n",
       "\n",
       "    .dataframe thead th {\n",
       "        text-align: left;\n",
       "    }\n",
       "\n",
       "    .dataframe tbody tr th {\n",
       "        vertical-align: top;\n",
       "    }\n",
       "</style>\n",
       "<table border=\"1\" class=\"dataframe\">\n",
       "  <thead>\n",
       "    <tr style=\"text-align: right;\">\n",
       "      <th></th>\n",
       "      <th>Age</th>\n",
       "      <th>Gender</th>\n",
       "      <th>Item ID</th>\n",
       "      <th>Item Name</th>\n",
       "      <th>Price</th>\n",
       "      <th>SN</th>\n",
       "    </tr>\n",
       "  </thead>\n",
       "  <tbody>\n",
       "    <tr>\n",
       "      <th>0</th>\n",
       "      <td>38</td>\n",
       "      <td>Male</td>\n",
       "      <td>165</td>\n",
       "      <td>Bone Crushing Silver Skewer</td>\n",
       "      <td>3.37</td>\n",
       "      <td>Aelalis34</td>\n",
       "    </tr>\n",
       "    <tr>\n",
       "      <th>1</th>\n",
       "      <td>21</td>\n",
       "      <td>Male</td>\n",
       "      <td>119</td>\n",
       "      <td>Stormbringer, Dark Blade of Ending Misery</td>\n",
       "      <td>2.32</td>\n",
       "      <td>Eolo46</td>\n",
       "    </tr>\n",
       "    <tr>\n",
       "      <th>2</th>\n",
       "      <td>34</td>\n",
       "      <td>Male</td>\n",
       "      <td>174</td>\n",
       "      <td>Primitive Blade</td>\n",
       "      <td>2.46</td>\n",
       "      <td>Assastnya25</td>\n",
       "    </tr>\n",
       "    <tr>\n",
       "      <th>3</th>\n",
       "      <td>21</td>\n",
       "      <td>Male</td>\n",
       "      <td>92</td>\n",
       "      <td>Final Critic</td>\n",
       "      <td>1.36</td>\n",
       "      <td>Pheusrical25</td>\n",
       "    </tr>\n",
       "    <tr>\n",
       "      <th>4</th>\n",
       "      <td>23</td>\n",
       "      <td>Male</td>\n",
       "      <td>63</td>\n",
       "      <td>Stormfury Mace</td>\n",
       "      <td>1.27</td>\n",
       "      <td>Aela59</td>\n",
       "    </tr>\n",
       "  </tbody>\n",
       "</table>\n",
       "</div>"
      ],
      "text/plain": [
       "   Age Gender  Item ID                                  Item Name  Price  \\\n",
       "0   38   Male      165                Bone Crushing Silver Skewer   3.37   \n",
       "1   21   Male      119  Stormbringer, Dark Blade of Ending Misery   2.32   \n",
       "2   34   Male      174                            Primitive Blade   2.46   \n",
       "3   21   Male       92                               Final Critic   1.36   \n",
       "4   23   Male       63                             Stormfury Mace   1.27   \n",
       "\n",
       "             SN  \n",
       "0     Aelalis34  \n",
       "1        Eolo46  \n",
       "2   Assastnya25  \n",
       "3  Pheusrical25  \n",
       "4        Aela59  "
      ]
     },
     "execution_count": 4,
     "metadata": {},
     "output_type": "execute_result"
    }
   ],
   "source": [
    "Item_Purchase_Data_df.head()"
   ]
  },
  {
   "cell_type": "code",
   "execution_count": 5,
   "metadata": {},
   "outputs": [
    {
     "data": {
      "text/html": [
       "<div>\n",
       "<style>\n",
       "    .dataframe thead tr:only-child th {\n",
       "        text-align: right;\n",
       "    }\n",
       "\n",
       "    .dataframe thead th {\n",
       "        text-align: left;\n",
       "    }\n",
       "\n",
       "    .dataframe tbody tr th {\n",
       "        vertical-align: top;\n",
       "    }\n",
       "</style>\n",
       "<table border=\"1\" class=\"dataframe\">\n",
       "  <thead>\n",
       "    <tr style=\"text-align: right;\">\n",
       "      <th></th>\n",
       "      <th>Number of Players</th>\n",
       "    </tr>\n",
       "  </thead>\n",
       "  <tbody>\n",
       "    <tr>\n",
       "      <th>0</th>\n",
       "      <td>573</td>\n",
       "    </tr>\n",
       "  </tbody>\n",
       "</table>\n",
       "</div>"
      ],
      "text/plain": [
       "   Number of Players\n",
       "0                573"
      ]
     },
     "execution_count": 5,
     "metadata": {},
     "output_type": "execute_result"
    }
   ],
   "source": [
    "NumofPlayers = Item_Purchase_Data_df['SN'].drop_duplicates().count()\n",
    "NumofPlayers_df = pd.DataFrame({'Number of Players': NumofPlayers}, index =[0])\n",
    "NumofPlayers_df\n",
    "#NumofPlayers_df = pd.DataFrame(data=NumofPlayers_dict)\n"
   ]
  },
  {
   "cell_type": "code",
   "execution_count": 6,
   "metadata": {},
   "outputs": [
    {
     "data": {
      "text/html": [
       "<div>\n",
       "<style>\n",
       "    .dataframe thead tr:only-child th {\n",
       "        text-align: right;\n",
       "    }\n",
       "\n",
       "    .dataframe thead th {\n",
       "        text-align: left;\n",
       "    }\n",
       "\n",
       "    .dataframe tbody tr th {\n",
       "        vertical-align: top;\n",
       "    }\n",
       "</style>\n",
       "<table border=\"1\" class=\"dataframe\">\n",
       "  <thead>\n",
       "    <tr style=\"text-align: right;\">\n",
       "      <th></th>\n",
       "      <th>Number of Unique Items</th>\n",
       "      <th>Average Price</th>\n",
       "      <th>Number of Purchases</th>\n",
       "      <th>Total Revenue</th>\n",
       "    </tr>\n",
       "  </thead>\n",
       "  <tbody>\n",
       "    <tr>\n",
       "      <th>0</th>\n",
       "      <td>179</td>\n",
       "      <td>2.93%</td>\n",
       "      <td>780</td>\n",
       "      <td>$2,286.33</td>\n",
       "    </tr>\n",
       "  </tbody>\n",
       "</table>\n",
       "</div>"
      ],
      "text/plain": [
       "   Number of Unique Items Average Price  Number of Purchases Total Revenue\n",
       "0                     179         2.93%                  780     $2,286.33"
      ]
     },
     "execution_count": 6,
     "metadata": {},
     "output_type": "execute_result"
    }
   ],
   "source": [
    "#Number of Unique Items\n",
    "Unique_Items_df = Item_Purchase_Data_df.groupby('Item Name').nunique()\n",
    "Unique_Items_Num = len(Unique_Items_df['Item Name'])\n",
    "\n",
    "#Average Purchase Price\n",
    "Avg_PurchPrice = Item_Purchase_Data_df['Price'].mean()\n",
    "\n",
    "#Total Number of Purchases\n",
    "Total_Purch = len(Item_Purchase_Data_df.index)\n",
    "\n",
    "#Total Revenue\n",
    "Total_Revenue = Item_Purchase_Data_df['Price'].sum()\n",
    "\n",
    "\n",
    "#Print results to a dataframe\n",
    "Purch_Analysis_df = pd.DataFrame({'Average Price': Avg_PurchPrice,'Number of Unique Items': Unique_Items_Num\n",
    "                                 ,'Total Revenue':Total_Revenue,'Number of Purchases':Total_Purch},index =[0])\n",
    "\n",
    "Purch_Analysis_df['Average Price'] = Purch_Analysis_df['Average Price'].map(\"{0:,.2f}%\".format)\n",
    "Purch_Analysis_df['Total Revenue'] = Purch_Analysis_df['Total Revenue'].map(\"${0:,.2f}\".format)\n",
    "Purch_Analysis_df = Purch_Analysis_df[['Number of Unique Items','Average Price','Number of Purchases','Total Revenue']]\n",
    "Purch_Analysis_df"
   ]
  },
  {
   "cell_type": "code",
   "execution_count": 7,
   "metadata": {},
   "outputs": [
    {
     "data": {
      "text/html": [
       "<div>\n",
       "<style>\n",
       "    .dataframe thead tr:only-child th {\n",
       "        text-align: right;\n",
       "    }\n",
       "\n",
       "    .dataframe thead th {\n",
       "        text-align: left;\n",
       "    }\n",
       "\n",
       "    .dataframe tbody tr th {\n",
       "        vertical-align: top;\n",
       "    }\n",
       "</style>\n",
       "<table border=\"1\" class=\"dataframe\">\n",
       "  <thead>\n",
       "    <tr style=\"text-align: right;\">\n",
       "      <th></th>\n",
       "      <th>Percentage of Players</th>\n",
       "      <th>Total Count</th>\n",
       "    </tr>\n",
       "  </thead>\n",
       "  <tbody>\n",
       "    <tr>\n",
       "      <th>Male</th>\n",
       "      <td>81.15%</td>\n",
       "      <td>465</td>\n",
       "    </tr>\n",
       "    <tr>\n",
       "      <th>Female</th>\n",
       "      <td>17.45%</td>\n",
       "      <td>100</td>\n",
       "    </tr>\n",
       "    <tr>\n",
       "      <th>Other</th>\n",
       "      <td>1.40%</td>\n",
       "      <td>8</td>\n",
       "    </tr>\n",
       "  </tbody>\n",
       "</table>\n",
       "</div>"
      ],
      "text/plain": [
       "       Percentage of Players  Total Count\n",
       "Male                  81.15%          465\n",
       "Female                17.45%          100\n",
       "Other                  1.40%            8"
      ]
     },
     "execution_count": 7,
     "metadata": {},
     "output_type": "execute_result"
    }
   ],
   "source": [
    "#Make a DF of unique SNs\n",
    "Unique_SN_df = Item_Purchase_Data_df.drop_duplicates('SN', keep = 'last')\n",
    "\n",
    "#Make a DF of just males\n",
    "Males_df = Unique_SN_df[Unique_SN_df['Gender'] == 'Male']\n",
    "\n",
    "#Make a DF of just Females\n",
    "Females_df = Unique_SN_df[Unique_SN_df['Gender'] == 'Female']\n",
    "\n",
    "#Make a DF of just people who identify as Other\n",
    "Other_df = Unique_SN_df[Unique_SN_df['Gender'] == 'Other / Non-Disclosed']\n",
    "\n",
    "#Find the number of each gender\n",
    "Num_Males = len(Males_df.index)\n",
    "Num_Females = len(Females_df.index)\n",
    "Num_Other = len(Other_df.index)\n",
    "\n",
    "#Find the Percentage of each gender\n",
    "Males_Perc = Num_Males/NumofPlayers*100\n",
    "Females_Perc = Num_Females/NumofPlayers*100\n",
    "Other_Perc = Num_Other/NumofPlayers*100\n",
    "\n",
    "#Create a DF of the results\n",
    "Gender_Analysis_df = pd.DataFrame({'Percentage of Players': [Males_Perc,Females_Perc,Other_Perc],'Total Count':[Num_Males,Num_Females,Num_Other]},index =['Male','Female','Other'])\n",
    "\n",
    "#Formatting\n",
    "Gender_Analysis_df['Percentage of Players'] = Gender_Analysis_df['Percentage of Players'].map(\"{0:,.2f}%\".format)\n",
    "\n",
    "Gender_Analysis_df"
   ]
  },
  {
   "cell_type": "code",
   "execution_count": 8,
   "metadata": {},
   "outputs": [],
   "source": [
    "#Purchase Counts \n",
    "\n",
    "#Male Purchase Counts and average\n",
    "Male_Purchases_df =Item_Purchase_Data_df[Item_Purchase_Data_df['Gender'] == 'Male']\n",
    "Male_Num = len(Male_Purchases_df.index)\n",
    "Percent_Male = Male_Num/NumofPlayers\n",
    "Avg_Male_Purch = Male_Purchases_df['Price'].mean()\n",
    "Sum_Male_Purch = Male_Purchases_df['Price'].sum()\n",
    "Norm_Male_Purch = Sum_Male_Purch/Male_Num\n",
    "\n",
    "#Female Purchase Counts and average\n",
    "Female_Purchases_df =Item_Purchase_Data_df[Item_Purchase_Data_df['Gender'] == 'Female']\n",
    "Female_Num = len(Female_Purchases_df.index)\n",
    "Percent_Female = Female_Num/NumofPlayers\n",
    "Avg_Female_Purch = Female_Purchases_df['Price'].mean()\n",
    "Sum_Female_Purch = Female_Purchases_df['Price'].sum()\n",
    "Norm_Female_Purch = Sum_Female_Purch/Female_Num\n",
    "\n",
    "#Other Purchase Counts and average\n",
    "Other_Purchases_df = Item_Purchase_Data_df[Item_Purchase_Data_df['Gender'] == 'Other / Non-Disclosed']\n",
    "Other_Num = len(Other_Purchases_df.index)\n",
    "Percent_Other = Other_Num/NumofPlayers\n",
    "Avg_Other_Purch = Other_Purchases_df['Price'].mean()\n",
    "Sum_Other_Purch = Other_Purchases_df['Price'].sum()\n",
    "Norm_Other_Purch = Sum_Other_Purch/Other_Num\n",
    "\n",
    "Gender_Purch_df = pd.DataFrame({'Purchase Count':[Male_Num,Female_Num,Other_Num],'Average Purchase Price':[Avg_Male_Purch, Avg_Female_Purch,Avg_Other_Purch],'Total Purchase Value':[Sum_Male_Purch,Sum_Female_Purch,Sum_Other_Purch],'Normalized Totals':[Norm_Male_Purch,Norm_Female_Purch,Norm_Other_Purch]}, index = ['Male','Female','Other'])\n",
    "\n",
    "Gender_Purch_df['Average Purchase Price'] = Gender_Purch_df['Average Purchase Price'].map(\"${0:,.2f}\".format)\n",
    "Gender_Purch_df['Normalized Totals'] = Gender_Purch_df['Normalized Totals'].map(\"${0:,.2f}\".format)\n",
    "Gender_Purch_df['Total Purchase Value'] = Gender_Purch_df['Total Purchase Value'].map(\"${0:,.2f}\".format)"
   ]
  },
  {
   "cell_type": "code",
   "execution_count": 9,
   "metadata": {},
   "outputs": [
    {
     "data": {
      "text/html": [
       "<div>\n",
       "<style>\n",
       "    .dataframe thead tr:only-child th {\n",
       "        text-align: right;\n",
       "    }\n",
       "\n",
       "    .dataframe thead th {\n",
       "        text-align: left;\n",
       "    }\n",
       "\n",
       "    .dataframe tbody tr th {\n",
       "        vertical-align: top;\n",
       "    }\n",
       "</style>\n",
       "<table border=\"1\" class=\"dataframe\">\n",
       "  <thead>\n",
       "    <tr style=\"text-align: right;\">\n",
       "      <th></th>\n",
       "      <th>Average Purchase Price</th>\n",
       "      <th>Normalized Totals</th>\n",
       "      <th>Purchase Count</th>\n",
       "      <th>Total Purchase Value</th>\n",
       "    </tr>\n",
       "  </thead>\n",
       "  <tbody>\n",
       "    <tr>\n",
       "      <th>Male</th>\n",
       "      <td>$2.95</td>\n",
       "      <td>$2.95</td>\n",
       "      <td>633</td>\n",
       "      <td>$1,867.68</td>\n",
       "    </tr>\n",
       "    <tr>\n",
       "      <th>Female</th>\n",
       "      <td>$2.82</td>\n",
       "      <td>$2.82</td>\n",
       "      <td>136</td>\n",
       "      <td>$382.91</td>\n",
       "    </tr>\n",
       "    <tr>\n",
       "      <th>Other</th>\n",
       "      <td>$3.25</td>\n",
       "      <td>$3.25</td>\n",
       "      <td>11</td>\n",
       "      <td>$35.74</td>\n",
       "    </tr>\n",
       "  </tbody>\n",
       "</table>\n",
       "</div>"
      ],
      "text/plain": [
       "       Average Purchase Price Normalized Totals  Purchase Count  \\\n",
       "Male                    $2.95             $2.95             633   \n",
       "Female                  $2.82             $2.82             136   \n",
       "Other                   $3.25             $3.25              11   \n",
       "\n",
       "       Total Purchase Value  \n",
       "Male              $1,867.68  \n",
       "Female              $382.91  \n",
       "Other                $35.74  "
      ]
     },
     "execution_count": 9,
     "metadata": {},
     "output_type": "execute_result"
    }
   ],
   "source": [
    "Gender_Purch_df"
   ]
  },
  {
   "cell_type": "code",
   "execution_count": null,
   "metadata": {
    "collapsed": true
   },
   "outputs": [],
   "source": []
  }
 ],
 "metadata": {
  "kernelspec": {
   "display_name": "Python 3",
   "language": "python",
   "name": "python3"
  },
  "language_info": {
   "codemirror_mode": {
    "name": "ipython",
    "version": 3
   },
   "file_extension": ".py",
   "mimetype": "text/x-python",
   "name": "python",
   "nbconvert_exporter": "python",
   "pygments_lexer": "ipython3",
   "version": "3.6.3"
  }
 },
 "nbformat": 4,
 "nbformat_minor": 2
}
